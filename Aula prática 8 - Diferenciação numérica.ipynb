{
 "cells": [
  {
   "cell_type": "markdown",
   "metadata": {},
   "source": [
    "###### *Métodos Computacionais - Prof. Raul Durand*\n",
    "# Aula prática 8 - Diferenciação numérica"
   ]
  },
  {
   "cell_type": "markdown",
   "metadata": {},
   "source": [
    "## 1. Objetivos\n",
    "\n",
    "* Apresentar as ferramentas de programação necessárias para a solução de sistemas de equações lineares pelo método da eliminação de Gauss.\n",
    "\n",
    "## 2. Tópicos a serem abordados\n",
    "\n",
    "0. Série de Taylor\n",
    "0. Aproximação da primeira derivada e segunda derivada\n",
    "0. Influência dos erros de arredondamento"
   ]
  },
  {
   "cell_type": "markdown",
   "metadata": {},
   "source": [
    "## 3. Exercícios em aula\n",
    "\n",
    "0. Escreva um programa que aproxime o valor da primeira derivada da uma função $f(x)$ em um dado ponto pela fórmula de diferença finita em atraso. Estime as seguintes derivadas:\n",
    "    * $f(x) = x^2 \\sqrt{1-\\cos^2(x) }$ \\; em $x=\\pi/6$ com $tol=10^{-4}$\n",
    "    * $f(x) = x \\ln ( x^3 - 1 )$ \\; em $x=2$ com $tol=10^{-4}$\n",
    "\n",
    "0. Repita o exercício anterior utilizando a fórmula de diferença      finita centrada.\n"
   ]
  },
  {
   "cell_type": "markdown",
   "metadata": {},
   "source": [
    "\n",
    "## 4. Exercícios propostos\n",
    "\n",
    "0. Escreva um programa que aproxime o valor da segunda derivada de uma função $f(x)$ utilizando a fórmula de diferença finita centrada.\n",
    "\n",
    "0. As coordenadas de um determinado projétil em função do tempo são definidas pelas equações:\n",
    "$$\n",
    "\\begin{eqnarray}\n",
    "    x(t) = 200 \\cos(\\pi/4) \\, t - 5.1 t^{0.4} \\\\\n",
    "    y(t) = 200 \\sin(\\pi/4) \\, t - 9.8 t^2/2\n",
    "\\end{eqnarray}\n",
    "$$\n",
    "onde $x$ e $y$ são dados em metros e $t$ em segundos. Estime a velocidade e a aceleração do projétil quando $t=15$ s. Aproxime as derivadas utilizando as fórmulas de diferenças finitas centradas com $tol=10^{-3}$.\n"
   ]
  },
  {
   "cell_type": "markdown",
   "metadata": {},
   "source": [
    "## Observações\n",
    "* O relatório das atividades desenvolvidas na aula prática incluindo os programas e resultados dos exercícios propostos deverá ser entregue na data fixada.\n",
    "* Caso o relatório não seja entregue na data marcada, o mesmo poderá ser entregue na próxima aula da disciplina valendo apenas 50% da nota. Após essa última data o relatório não será mais aceito. \n",
    "* Relatórios iguais terão a nota dividida de acordo ao número de cópias."
   ]
  }
 ],
 "metadata": {
  "kernelspec": {
   "display_name": "Julia 0.6.0",
   "language": "julia",
   "name": "julia-0.6"
  },
  "language_info": {
   "file_extension": ".jl",
   "mimetype": "application/julia",
   "name": "julia",
   "version": "0.6.0"
  }
 },
 "nbformat": 4,
 "nbformat_minor": 2
}
