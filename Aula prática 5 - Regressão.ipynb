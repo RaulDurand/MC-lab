{
 "cells": [
  {
   "cell_type": "markdown",
   "metadata": {},
   "source": [
    "*Métodos Computacionais - Prof. Raul Durand*\n",
    "# Aula prática 5 - Regressão"
   ]
  },
  {
   "cell_type": "markdown",
   "metadata": {},
   "source": [
    "## 1. Objetivos\n",
    "\n",
    "* Apresentar os conceitos necessários para implementação dos métodos para determinar uma curva que se ajuste a uma série de pontos: pares de dados $(x, y)$.\n",
    "\n",
    "## 2. Tópicos a serem abordados\n",
    "\n",
    "0. Determinação do coeficiente de correlação linear.\n",
    "0. Regressão linear pelo método dos mínimos quadrados.\n",
    "0. Regressão não linear."
   ]
  },
  {
   "cell_type": "markdown",
   "metadata": {},
   "source": [
    "## 3. Exercícios em aula\n",
    "\n",
    "0. Utilizando um editor de texto e o Julia escreva um programa        que determine o coeficiente de correlação linear entre dois conjuntos de dados `X` e `Y`. Execute o programa com os dados abaixo.\n",
    "```julia\n",
    "X = [1., 2., 3., 4., 5., 6.]\n",
    "Y = [1.6, 4.2, 5.2, 8.5, 9.2, 10.4 ]\n",
    "```\n",
    "\n",
    "0. Escreva um programa que determine os coeficientes de regressão linear do conjunto de dados do item anterior. Escreva a equação do modelo de regressão."
   ]
  },
  {
   "cell_type": "markdown",
   "metadata": {},
   "source": [
    "\n",
    "## 4. Exercícios propostos\n",
    "\n",
    "1. Escreva uma função chamada `reg_exponencial` que dados dois conjuntos de dados `X` e `Y` determine o coeficiente de regressão e os coeficientes de ajuste pelo modelo exponencial.\n",
    "2. Escreva uma função chamada `reg_geometrica` que dados dois conjuntos de dados `X` e `Y` determine o coeficiente de regressão e os coeficientes de ajuste pelo modelo exponencial.\n",
    "3. Analise o coeficiente de regressão do conjunto de dados abaixo comparando os modelos linear, exponencial e geométrico. Ajuste aos dados de acordo com o modelo que apresenta melhor correlação.\n",
    "```julia\n",
    "X = [2.00, 2.06, 3.56, 4.65, 5.72, 6.49, 7.9, 8.38, 9.04, 10.7]\n",
    "Y = [3.15, 3.09, 2.15, 1.80, 1.56, 1.4, 1.26, 1.21, 1.15, 1.03]\n",
    "```"
   ]
  }
 ],
 "metadata": {
  "kernelspec": {
   "display_name": "Python 2",
   "language": "python",
   "name": "python2"
  },
  "language_info": {
   "codemirror_mode": {
    "name": "ipython",
    "version": 2
   },
   "file_extension": ".py",
   "mimetype": "text/x-python",
   "name": "python",
   "nbconvert_exporter": "python",
   "pygments_lexer": "ipython2",
   "version": "2.7.13"
  },
  "latex_envs": {
   "LaTeX_envs_menu_present": true,
   "autoclose": false,
   "autocomplete": true,
   "bibliofile": "biblio.bib",
   "cite_by": "apalike",
   "current_citInitial": 1,
   "eqLabelWithNumbers": true,
   "eqNumInitial": 1,
   "hotkeys": {
    "equation": "Ctrl-E",
    "itemize": "Ctrl-I"
   },
   "labels_anchors": false,
   "latex_user_defs": false,
   "report_style_numbering": false,
   "user_envs_cfg": false
  }
 },
 "nbformat": 4,
 "nbformat_minor": 2
}
