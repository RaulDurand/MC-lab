{
 "cells": [
  {
   "cell_type": "markdown",
   "metadata": {},
   "source": [
    "*Métodos Computacionais - Prof. Raul Durand*\n",
    "# Aula prática 1 - Introdução à programação"
   ]
  },
  {
   "cell_type": "markdown",
   "metadata": {},
   "source": [
    "## 1. Objetivos\n",
    "\n",
    "Apresentar as noções básicas sobre o conjunto de regras sintáticas e semânticas utilizadas para definir um programa de computador na linguagem de programação Julia.\n",
    "\n",
    "## 2. Tópicos a serem abordados\n",
    "\n",
    "1. A linguagem Julia\n",
    "0. Variáveis e tipos de dados\n",
    "0. Operadores aritméticos, relacionais e lógicos\n",
    "0. Funções básicas"
   ]
  },
  {
   "cell_type": "markdown",
   "metadata": {},
   "source": [
    "## 3. Exercícios em aula\n",
    "\n",
    "0. Defina as variáveis a=2, b=3 e c=5.1 e determine:\n",
    "<br/>\n",
    "    * `a+b`\n",
    "    * `a^b`\n",
    "    * `b/a`\n",
    "    * `b//a`\n",
    "    * `3 % 2`\n",
    "    * `div(b,a)`\n",
    "    * `a+c`\n",
    "    * `a^2`\n",
    "    * `-a^2`\n",
    "    * `sqrt(-a)`\n",
    "    * `floor(c)`\n",
    "    * `floor(b/a)`\n",
    "    * `c/0`\n",
    "    * `0/0`\n",
    "    * `a+b/0`\n",
    "    * `[a, b, c]`\n",
    "    * `string(a+b)`\n",
    "    * `parse(\"2+3\") - c`\n",
    "<br/><br/>\n",
    "0. Defina as variáveis a=2, b=3 e c=true e determine o resultado das seguintes operações com operadores lógicos e relacionais:\n",
    "<br/>\n",
    "    * `a==a`\n",
    "    * `a>b`\n",
    "    * `!c`\n",
    "    * `!false`\n",
    "    * `a>b && b>0`\n",
    "    * `a>b || b>0`\n",
    "    * `!(a>b) && b>0`\n",
    "<br/><br/>       \n",
    "0. Execute o programa abaixo:\n",
    "\n",
    "```julia\n",
    "println(\"Meu primeiro programa!\")\n",
    "println(\"Soma de dois números a e b\")\n",
    "\n",
    "# Ingresso de dados\n",
    "println(\"Ingresse a:\")\n",
    "a = parse(readline())\n",
    "println(\"Ingresse b:\")\n",
    "b = parse(readline())\n",
    "\n",
    "# Cálculo\n",
    "c=(a+b)\n",
    "\n",
    "# Saída de resultados\n",
    "println(\"O resultado de a+b é:\", c)\n",
    "```\n",
    "\n"
   ]
  },
  {
   "cell_type": "markdown",
   "metadata": {},
   "source": [
    "\n",
    "## 4. Exercícios propostos\n",
    "\n",
    "1. Escreva um programa que calcule a média ponderada de uma série de três notas com seus respectivos pesos. O usuário deverá ingressar as notas e os pesos. Execute o programa com dados aleatórios.\n",
    "\n",
    "0. Escreva um programa que leia pelo teclado um intervalo de tempo `s` dado em segundos e que posteriormente imprima esse intervalo no formato horas:minutos:segundos. Execute o programa com um valor de `s` superior a 10000.\n"
   ]
  }
 ],
 "metadata": {
  "kernelspec": {
   "display_name": "Julia 1.1.0",
   "language": "julia",
   "name": "julia-1.1"
  },
  "language_info": {
   "file_extension": ".jl",
   "mimetype": "application/julia",
   "name": "julia",
   "version": "1.1.0"
  },
  "latex_envs": {
   "LaTeX_envs_menu_present": true,
   "autoclose": false,
   "autocomplete": true,
   "bibliofile": "biblio.bib",
   "cite_by": "apalike",
   "current_citInitial": 1,
   "eqLabelWithNumbers": true,
   "eqNumInitial": 1,
   "hotkeys": {
    "equation": "Ctrl-E",
    "itemize": "Ctrl-I"
   },
   "labels_anchors": false,
   "latex_user_defs": false,
   "report_style_numbering": false,
   "user_envs_cfg": false
  }
 },
 "nbformat": 4,
 "nbformat_minor": 2
}
