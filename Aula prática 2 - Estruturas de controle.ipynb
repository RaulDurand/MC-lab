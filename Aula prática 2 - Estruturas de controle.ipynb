{
 "cells": [
  {
   "cell_type": "markdown",
   "metadata": {},
   "source": [
    "*Métodos Computacionais - Prof. Raul Durand*\n",
    "# 1° Aula de laboratório - Introdução à programação"
   ]
  },
  {
   "cell_type": "markdown",
   "metadata": {},
   "source": [
    "## 1. Objetivos\n",
    "\n",
    "Apresentar o uso de estruturas condicionais e de repetição na linguagem Julia.\n",
    "\n",
    "## 2. Tópicos a serem abordados\n",
    "\n",
    "0. Utilização das palavras chave `if` , `else` e `end` em estruturas condicionais.\n",
    "0. Utilização das palavras chave `for` , `while` e `end` em estruturas de repetição."
   ]
  },
  {
   "cell_type": "markdown",
   "metadata": {},
   "source": [
    "## 3. Exercícios em aula\n",
    "\n",
    "0. Utilizando um editor de texto crie um programa que o usuário seja capaz de determinar se um número inteiro é par ou impar. Utilize uma estrutura condicional e o resto da divisão. Teste o programa com os números 0, 1, 2, 4, 7 e -7.\n",
    "<br/><br/>\n",
    "0. Escreva um programa que calcule as raízes das equações de segundo grau $ax^2 + bx + c = 0$. As constantes a, b e c devem ser lidas pelo teclado. Determine as raizes das equações:\n",
    "<br/>\n",
    "    * $4x^2 - 12x + 9 = 0$\n",
    "    * $x^2 + 4x + 6 = 0$\n",
    "    * $x^2 - x - 4 = 0$\n",
    "<br/><br/>       \n",
    "0. Excreva um programa que calcule o fatorial de um número usando a estrutura `while`. Calcule o fatorial de 0, 10 e 100.\n",
    "<br/><br/>\n",
    "0. Excreva um programa que, dado um vetor V de n componentes, calcule a norma do mesmo. Determine a norma dos vetores:\n",
    "<br/>\n",
    "    * `[1.0, 3.0, 5.0, 7.0]`\n",
    "    * `[-1.0, 2.0, -3.0, 4.0]`\n",
    "    "
   ]
  },
  {
   "cell_type": "markdown",
   "metadata": {},
   "source": [
    "\n",
    "## 4. Exercícios propostos\n",
    "\n",
    "0. Escreva um programa que imprima os $n$ primeiros números de série de Fibonacci: 0, 1, 1, 2, 3, 5, ...\n",
    "0. Escreva um programa que dada a nota de uma disciplina, imprima a menção correspondente.\n"
   ]
  },
  {
   "cell_type": "markdown",
   "metadata": {},
   "source": [
    "## Observações\n",
    "* O relatório das atividades desenvolvidas na aula prática incluindo os programas e resultados dos exercícios propostos deverá ser entregue na data fixada.\n",
    "* Caso o relatório não seja entregue na data marcada, o mesmo poderá ser entregue na próxima aula da disciplina valendo apenas 50% da nota. Após essa última data o relatório não será mais aceito. \n",
    "* Relatórios iguais terão a nota dividida de acordo ao número de cópias."
   ]
  },
  {
   "cell_type": "markdown",
   "metadata": {},
   "source": [
    "## Códigos auxíliares"
   ]
  },
  {
   "cell_type": "code",
   "execution_count": 22,
   "metadata": {
    "scrolled": true
   },
   "outputs": [
    {
     "data": {
      "text/plain": [
       "input (generic function with 1 method)"
      ]
     },
     "execution_count": 22,
     "metadata": {},
     "output_type": "execute_result"
    }
   ],
   "source": [
    "# Função para o ingresso de dados pelo teclado\n",
    "function input(msg, def)\n",
    "    print(msg, \" (default $def) : \")\n",
    "    txt = readline()\n",
    "    if strip(txt)==\"\"\n",
    "        return def\n",
    "    end\n",
    "    return eval(parse(txt))\n",
    "end"
   ]
  }
 ],
 "metadata": {
  "kernelspec": {
   "display_name": "Julia 0.6.0",
   "language": "julia",
   "name": "julia-0.6"
  },
  "language_info": {
   "file_extension": ".jl",
   "mimetype": "application/julia",
   "name": "julia",
   "version": "0.6.0"
  }
 },
 "nbformat": 4,
 "nbformat_minor": 2
}
