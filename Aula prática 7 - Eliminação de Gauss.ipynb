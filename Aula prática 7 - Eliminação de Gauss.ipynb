{
 "cells": [
  {
   "cell_type": "markdown",
   "metadata": {},
   "source": [
    "###### *Métodos Computacionais - Prof. Raul Durand*\n",
    "# Aula prática 7 - Eliminação de Gauss"
   ]
  },
  {
   "cell_type": "markdown",
   "metadata": {},
   "source": [
    "## 1. Objetivos\n",
    "\n",
    "* Apresentar as ferramentas de programação necessárias para a solução de sistemas de equações lineares pelo método da eliminação de Gauss.\n",
    "\n",
    "## 2. Tópicos a serem abordados\n",
    "\n",
    "0. Eliminação de Gauss sem pivoteamento.\n",
    "0. Pivoteamento parcial."
   ]
  },
  {
   "cell_type": "markdown",
   "metadata": {},
   "source": [
    "## 3. Exercícios em aula\n",
    "\n",
    "0. Utilizando um editor de texto e o Julia escreva um programa de eliminação de Gauss para resolver o sistema linear $AX=B$. Execute o programa para calcular o vetor de incognitas $X$ no sistema abaixo.\n",
    "$$\n",
    "               \\begin{bmatrix} \n",
    "                  1 & 2 & 1 \\\\ \n",
    "                  2 & 1 & -1 \\\\ \n",
    "                  3 & -1 & -1 \\\\\n",
    "               \\end{bmatrix}\n",
    "               \\begin{pmatrix} x  \\\\ y  \\\\ z \\\\ \\end{pmatrix}\n",
    "               = \n",
    "               \\begin{pmatrix} 3  \\\\ 0  \\\\ -2  \\\\ \\end{pmatrix}\n",
    "$$\n",
    "0. Aplique o programa desenvolvido no item 1 para calcular a solução de:\n",
    "$$\n",
    "               \\begin{bmatrix} \n",
    "                  2 & 2 & -1 \\\\ \n",
    "                  3 & 3 & 1 \\\\ \n",
    "                  1 & -1 & 5 \\\\\n",
    "               \\end{bmatrix}\n",
    "               \\begin{pmatrix} x  \\\\ y  \\\\ z \\\\ \\end{pmatrix}\n",
    "               = \n",
    "               \\begin{pmatrix} 3  \\\\ 7  \\\\ 5  \\\\ \\end{pmatrix}\n",
    "$$\n",
    "0. Complemente o programa do item 1 para incluir pivoteamento. Execute o programa para calcular a solução do sistema apresentado no item 2.\n"
   ]
  },
  {
   "cell_type": "markdown",
   "metadata": {},
   "source": [
    "\n",
    "## 4. Exercícios propostos\n",
    "\n",
    "1. Escreva um programa que dada uma matriz quadrada $A$ calcule a inversa da mesma. O cálculo deverá utilizar internamente a eliminação de Gauss com pivoteamento. Execute o programa para achar a inversa da matriz abaixo.\n",
    "$$\n",
    "A = \n",
    "\\begin{bmatrix}\n",
    "    1 &  3 &  1 &  0   \\\\\n",
    "    1 &  2 &  1 & -4   \\\\\n",
    "    0 & -1 &  0 &  3   \\\\\n",
    "    0 &  4 & -1 &  8\n",
    "\\end{bmatrix}\n",
    "$$\n",
    "Explique o procedimento realizado."
   ]
  },
  {
   "cell_type": "markdown",
   "metadata": {},
   "source": [
    "## Observações\n",
    "* O relatório das atividades desenvolvidas na aula prática incluindo os programas e resultados dos exercícios propostos deverá ser entregue na data fixada.\n",
    "* Caso o relatório não seja entregue na data marcada, o mesmo poderá ser entregue na próxima aula da disciplina valendo apenas 50% da nota. Após essa última data o relatório não será mais aceito. \n",
    "* Relatórios iguais terão a nota dividida de acordo ao número de cópias."
   ]
  },
  {
   "cell_type": "markdown",
   "metadata": {},
   "source": [
    "## Códigos auxíliares\n",
    "\n",
    "```julia\n",
    "# Funcao para que realiza pivoteamento\n",
    "function pivoteamento(A, B, k)\n",
    "    # A: matriz de coeficientes\n",
    "    # B: vetor de termos independentes\n",
    "    # k: linha atual a sofrer pivoteamento\n",
    "\n",
    "    # 1a etapa: encontrar o maximo pivo a linha correspondente:\n",
    "    n = size(A,1) # número de linhas\n",
    "    maxp = 0.0  # valor inicial do maximo pivo\n",
    "    maxk = k    # valor inicial da posicao do máximo pivô\n",
    "    # iteracao ao longo das linhas por baixo do pivo (incluindo o pivo) para achar a posição do máximo pivo:\n",
    "    for i=k:n   \n",
    "        if abs(A[i,k])>maxp # se achar um valor maior -> atualizar\n",
    "            maxp = A[i,k]\n",
    "            maxk = i\n",
    "        end\n",
    "    end\n",
    "\n",
    "    # 2a etapa: troca de linhas em A e B:\n",
    "    A[k,:], A[maxk,:] = A[maxk,:], A[k,:]\n",
    "    B[k], B[maxk]     = B[maxk], B[k]\n",
    "end\n",
    "```"
   ]
  }
 ],
 "metadata": {
  "kernelspec": {
   "display_name": "Julia 0.6.0",
   "language": "julia",
   "name": "julia-0.6"
  },
  "language_info": {
   "file_extension": ".jl",
   "mimetype": "application/julia",
   "name": "julia",
   "version": "0.6.0"
  }
 },
 "nbformat": 4,
 "nbformat_minor": 2
}
