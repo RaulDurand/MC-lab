{
 "cells": [
  {
   "cell_type": "markdown",
   "metadata": {},
   "source": [
    "###### *Métodos Computacionais - Prof. Raul Durand*\n",
    "# Aula prática 9 - Integração numérica"
   ]
  },
  {
   "cell_type": "markdown",
   "metadata": {},
   "source": [
    "## 1. Objetivos\n",
    "\n",
    "* Apresentar as ferramentas de programação necessárias para a implementação de programas de integração numérica.\n",
    "\n",
    "## 2. Tópicos a serem abordados\n",
    "\n",
    "0. Integração pelo método do Trapézio.\n",
    "0. Integração pelo método do Simpson.\n",
    "0. Quadratura de Gauss"
   ]
  },
  {
   "cell_type": "markdown",
   "metadata": {},
   "source": [
    "## 3. Exercícios em aula\n",
    "\n",
    "0. Utilizando um editor de texto e o Julia escreva um programa que realize a integração numérica de uma função $f(x)$ pelo método do Trapézio. Execute o prorama para estimar o valor da integral:\n",
    "$$I=\\int_{-3}^{+3} \\frac{1}{\\sqrt{\\pi}} e^{-x^2} dx$$\n",
    "utilizando 2, 4, 8 e 16 intervalos. \n",
    "\n",
    "0. Escreva um programa para estimar integrais utilizando a quadratura de Gauss  utilizando 2, 3 e 4 pontos de integração. Execute o programa para estimar a integral acima."
   ]
  },
  {
   "cell_type": "markdown",
   "metadata": {},
   "source": [
    "\n",
    "## 4. Exercícios propostos\n",
    "\n",
    "1. Escreva um programa que calcule o valor de integral de uma função $f(x)$ pelo método de Simpson $\\frac{1}{3}$. Utilize o programa para calcular a integral: \n",
    "$$I=\\int_0^\\pi e^x \\sin(x) dx$$\n",
    "utilizando 4, 8 e 16 intervalos. Compare os resultados com os obtidos método do Trapézio para os mesmos números de intervalos.\n",
    "\n",
    "2. Modifique o programa de integração pelo método da quadratura de Gauss para estimar a integral do item anterior utilizando 5 pontos de integração."
   ]
  },
  {
   "cell_type": "markdown",
   "metadata": {},
   "source": [
    "## Observações\n",
    "* O relatório das atividades desenvolvidas na aula prática incluindo os programas e resultados dos exercícios propostos deverá ser entregue na data fixada.\n",
    "* Caso o relatório não seja entregue na data marcada, o mesmo poderá ser entregue na próxima aula da disciplina valendo apenas 50% da nota. Após essa última data o relatório não será mais aceito. \n",
    "* Relatórios iguais terão a nota dividida de acordo ao número de cópias."
   ]
  },
  {
   "cell_type": "markdown",
   "metadata": {},
   "source": [
    "## Códigos auxíliares\n",
    "\n",
    "```julia\n",
    "# matriz de pontos de integracao\n",
    "Pontos = [  0.0          0.0         0.0         0.0\n",
    "           -0.577350269  0.577350269 0.0         0.0\n",
    "           -0.774596669  0.0         0.774596669 0.0\n",
    "           -0.861136312 -0.339981044 0.339981044 0.861136312 ]\n",
    "\n",
    "# matriz de pesos de inegracao\n",
    "Pesos = [  2.0          0.0          0.0          0.0\n",
    "           1.0          1.0          0.0          0.0\n",
    "           0.5555555556 0.8888888889 0.5555555556 0.0\n",
    "           0.3478548    0.6521452    0.6521452    0.3478548 ]\n",
    "```"
   ]
  }
 ],
 "metadata": {
  "kernelspec": {
   "display_name": "Julia 0.6.0",
   "language": "julia",
   "name": "julia-0.6"
  },
  "language_info": {
   "file_extension": ".jl",
   "mimetype": "application/julia",
   "name": "julia",
   "version": "0.6.0"
  }
 },
 "nbformat": 4,
 "nbformat_minor": 2
}
