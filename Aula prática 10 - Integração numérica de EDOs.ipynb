{
 "cells": [
  {
   "cell_type": "markdown",
   "metadata": {},
   "source": [
    "###### *Métodos Computacionais - Prof. Raul Durand*\n",
    "# Aula prática 10 - Integração numérica de EDOs"
   ]
  },
  {
   "cell_type": "markdown",
   "metadata": {},
   "source": [
    "## 1. Objetivos\n",
    "\n",
    "* Apresentar as ferramentas necessárias para a implementação dos métodos de Heuler e Heun para a integração de equações diferenciais de primeira ordem.\n",
    "\n",
    "## 2. Tópicos a serem abordados\n",
    "\n",
    "0. Método de Euler\n",
    "0. Método de Euler aprimorado (Heun)\n",
    "0. Método do ponto médio\n",
    "0. Método Runge-Kutta de quarta ordem"
   ]
  },
  {
   "cell_type": "markdown",
   "metadata": {},
   "source": [
    "## 3. Exercícios em aula\n",
    "\n",
    "0. Escreva um programa integre uma equação diferencial de primeira ordem da forma $\\frac{dy}{dx}=f(x,y)$ pelo método de Euler. Utilize o programa para estimar o valor da função $y(x)$ quando $x=2$ no seguinte PVI:\n",
    "$$\n",
    "\\left\\{\\begin{array}{l}\n",
    "    y' - y = \\frac{exp(x)}{x}\\\\\n",
    "    y(1) = 0\n",
    "\\end{array} \\right.\n",
    "$$\n",
    "Imprima os resultados para 5, 10 e 100 incrementos.\n",
    "\n",
    "0. Resolva o problema anterior utilizando o método de Euler aprimorado. Compare os resultados."
   ]
  },
  {
   "cell_type": "markdown",
   "metadata": {},
   "source": [
    "\n",
    "## 4. Exercícios propostos\n",
    "\n",
    "1. Escreva um programa integre uma equação diferencial de primeira ordem utilizando o método do ponto médio. Estime o valor $y(\\tfrac{\\pi}{4})$ no seguinte PVI:\n",
    "$$\n",
    "\\left\\{\\begin{array}{l}\n",
    "    \\tan(x) dx - y dy = 0 \\\\\n",
    "    y(0) = \\tfrac{1}{2}\n",
    "\\end{array} \\right.\n",
    "$$\n",
    "Imprima os resultados para 5, 10 e 100 incrementos. \n",
    "Determine a solução analítica do PVI e compare os resultados.\n",
    "Compare também com o resultado obtido pelo método Runge-Kutta clásico utilizando 5 incrementos.\n"
   ]
  },
  {
   "cell_type": "markdown",
   "metadata": {},
   "source": [
    "## Observações\n",
    "* O relatório das atividades desenvolvidas na aula prática incluindo os programas e resultados dos exercícios propostos deverá ser entregue na data fixada.\n",
    "* Relatórios iguais terão a nota dividida de acordo ao número de cópias."
   ]
  }
 ],
 "metadata": {
  "kernelspec": {
   "display_name": "Julia 0.6.2",
   "language": "julia",
   "name": "julia-0.6"
  },
  "language_info": {
   "file_extension": ".jl",
   "mimetype": "application/julia",
   "name": "julia",
   "version": "0.6.2"
  }
 },
 "nbformat": 4,
 "nbformat_minor": 2
}
