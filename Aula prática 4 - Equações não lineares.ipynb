{
 "cells": [
  {
   "cell_type": "markdown",
   "metadata": {},
   "source": [
    "*Métodos Computacionais*\n",
    "# Aula prática 4 - Equações não lineares"
   ]
  },
  {
   "cell_type": "markdown",
   "metadata": {},
   "source": [
    "## 1. Objetivos\n",
    "\n",
    "Apresentar as ferramentas necessárias para a implementação de métodos numéricos de solução de equações não lineares.\n",
    "\n",
    "## 2. Tópicos a serem abordados\n",
    "\n",
    "1. Isolamento de intervalos que contêm raizes.\n",
    "0. Aproximação de raizes pelos métodos da bisseção, ponto fixo e Newton.\n"
   ]
  },
  {
   "cell_type": "markdown",
   "metadata": {},
   "source": [
    "## 3. Exercícios em aula\n",
    "\n",
    "1. Construa uma tabela de valores para a função $f(x) = 3x^2-\\exp(x)$ e isole os intervalos que contêm as raizes. Indique pelo menos três interválos que contenham uma raiz.\n",
    "\n",
    "0. Escreva um programa que determine raizes pelo método da bisseção.   Determine todas as raizes da equação apresentada no item 1 com     precisão $\\varepsilon=10^{-5}$.\n",
    "            \n",
    "0. Escreva um programa que determine raizes pelo método da Newton. Determine todas as raizes da equação apresentada no item 1 com      precisão $\\varepsilon=10^{-5}$. Adote os pontos iniciais         necessários. Confira com os resultados obtidos pelo método da       bisseção.\n",
    "            "
   ]
  },
  {
   "cell_type": "markdown",
   "metadata": {},
   "source": [
    "\n",
    "## 4. Exercícios propostos\n",
    "\n",
    "1. Determine os interválos que contêm raiz nas seguintes equações:\n",
    "\n",
    "    * $\\sqrt{x}-5e^{-x}=0$\n",
    "    * $e^x-4=4\\ln{x^2}$\n",
    "\n",
    "0. Modifique o programa de bisseção para que o método possa ser utilizado como uma função, por exemplo, `bissecao(f, a, b, tol)`, onde f representa a função cuja raiz deve ser determinada. Finalmente, determine a solução das equações acima para uma precisão `eps=0.001`.\n",
    "\n",
    "0. Repita o exercício 2 mas desta vez utilizando o método de Newton.\n",
    "\n",
    "0. Modifique a função `bisseção` para que considere uma tolerância `tolf` de forma que as iterações sejam realizadas até que $|f_{i} - f_{i-1}| < tolf$.\n"
   ]
  }
 ],
 "metadata": {
  "kernelspec": {
   "display_name": "Julia 1.1.0",
   "language": "julia",
   "name": "julia-1.1"
  },
  "language_info": {
   "file_extension": ".jl",
   "mimetype": "application/julia",
   "name": "julia",
   "version": "1.1.0"
  },
  "latex_envs": {
   "LaTeX_envs_menu_present": true,
   "autoclose": false,
   "autocomplete": true,
   "bibliofile": "biblio.bib",
   "cite_by": "apalike",
   "current_citInitial": 1,
   "eqLabelWithNumbers": true,
   "eqNumInitial": 1,
   "hotkeys": {
    "equation": "Ctrl-E",
    "itemize": "Ctrl-I"
   },
   "labels_anchors": false,
   "latex_user_defs": false,
   "report_style_numbering": false,
   "user_envs_cfg": false
  }
 },
 "nbformat": 4,
 "nbformat_minor": 2
}
