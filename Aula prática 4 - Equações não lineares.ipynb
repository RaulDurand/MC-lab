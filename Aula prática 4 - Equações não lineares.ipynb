{
 "cells": [
  {
   "cell_type": "markdown",
   "metadata": {},
   "source": [
    "*Métodos Computacionais*\n",
    "# Aula prática 4 - Equações não lineares"
   ]
  },
  {
   "cell_type": "markdown",
   "metadata": {},
   "source": [
    "## 1. Objetivos\n",
    "\n",
    "Apresentar as ferramentas necessárias para a implementação de métodos numéricos de solução de equações não lineares.\n",
    "\n",
    "## 2. Tópicos a serem abordados\n",
    "\n",
    "0. Isolamento de intervalos que contêm raizes.\n",
    "0. Aproximação de raizes pelos métodos da bisseção, ponto fixo e Newton.\n"
   ]
  },
  {
   "cell_type": "markdown",
   "metadata": {},
   "source": [
    "## 3. Exercícios em aula\n",
    "\n",
    "0. Construa uma tabela de valores para a função $f(x) = 3x^2-\\exp(x)$ e isole os intervalos que contêm as raizes. Indique pelo menos três interválos que contenham uma raiz.\n",
    "\n",
    "0. Escreva um programa que determine raizes pelo método da bisseção.   Determine todas as raizes da equação apresentada no item 1 com     precisão $\\varepsilon=10^{-5}$.\n",
    "            \n",
    "0. Escreva um programa que determine raizes pelo método da Newton. Determine todas as raizes da equação apresentada no item 1 com      precisão $\\varepsilon=10^{-5}$. Adote os pontos iniciais         necessários. Confira com os resultados obtidos pelo método da       bisseção.\n",
    "            "
   ]
  },
  {
   "cell_type": "markdown",
   "metadata": {},
   "source": [
    "\n",
    "## 4. Exercícios propostos\n",
    "\n",
    "0. Determine os interválos que contêm raiz nas seguintes equações:\n",
    "\n",
    "    * $\\sqrt{x}-5e^{-x}=0$\n",
    "    * $e^x-4=4\\ln{x^2}$\n",
    "\n",
    "0. Modifique o programa de bisseção para que o método possa ser utilizado como uma função, por exemplo, `bissecao(f, a, b, tol)`, onde f representa a função cuja raiz deve ser determinada. Finalmente, determine a solução das equações acima para uma precisão `eps=0.001`.\n",
    "\n",
    "0. Repita o exercício 2 mas desta vez utilizando o método de Newton.\n"
   ]
  },
  {
   "cell_type": "markdown",
   "metadata": {},
   "source": [
    "## Observações\n",
    "* O relatório das atividades desenvolvidas na aula prática incluindo os programas e resultados dos exercícios propostos deverá ser entregue na data fixada.\n",
    "* Relatórios iguais terão a nota dividida de acordo ao número de cópias."
   ]
  },
  {
   "cell_type": "markdown",
   "metadata": {},
   "source": [
    "## Códigos auxiliares"
   ]
  },
  {
   "cell_type": "code",
   "execution_count": 22,
   "metadata": {},
   "outputs": [
    {
     "data": {
      "text/plain": [
       "input (generic function with 1 method)"
      ]
     },
     "execution_count": 22,
     "metadata": {},
     "output_type": "execute_result"
    }
   ],
   "source": [
    "function input(msg, def)\n",
    "    print(msg, \" (default $def) : \")\n",
    "    txt = readline()\n",
    "    if strip(txt)==\"\"\n",
    "        return def\n",
    "    end\n",
    "    return eval(parse(txt))\n",
    "end"
   ]
  },
  {
   "cell_type": "code",
   "execution_count": null,
   "metadata": {},
   "outputs": [],
   "source": [
    "# Function to tabulate \n",
    "\n",
    "using Printf\n",
    "function tabulate(f, min, max, h)\n",
    "    # f: a function\n",
    "    # min, max: interval\n",
    "    # h: step\n",
    "    \n",
    "    fname = string(f)\n",
    "    println(\"Table for $fname:\")\n",
    "    println(\"   x          $fname(x)\")\n",
    "    for x=min:h:max\n",
    "        @printf(\"%10.5f  %10.5f \\n\", x, f(x))\n",
    "    end\n",
    "\n",
    "    println(\"Intervals with at least one root:\")\n",
    "    for x=min:h:max\n",
    "        if f(x)*f(x+h)<0\n",
    "            println(\"[$(x), $(x+h)]\")\n",
    "        end\n",
    "    end\n",
    "end"
   ]
  },
  {
   "cell_type": "code",
   "execution_count": null,
   "metadata": {},
   "outputs": [],
   "source": [
    "# BISSECTION ALGORITHM\n",
    "using Printf\n",
    "printstyled(\"Bissection method\\n\", bold=true)\n",
    "\n",
    "# Input data\n",
    "a = -4.0\n",
    "b = -3.0\n",
    "tol = 0.001\n",
    "println(\"\\nInput summary:\")\n",
    "@show(a, b, tol)\n",
    "\n",
    "n   = ceil(Int, log((b-a)/tol) / log(2) )\n",
    "x   = 0.0 # initial value for x\n",
    "err = 0.0\n",
    "\n",
    "println(\"\\nTable of results:\")\n",
    "@printf(\"%3s %8s %8s %8s %8s %8s %8s %8s \\n\",\n",
    "        \"i\", \"a\", \"x\", \"b\", \"f(a)\", \"f(x)\", \"f(b)\", \"err\")\n",
    "for i=1:n\n",
    "    global x   = (a+b)/2\n",
    "    global err = (b-a)/2\n",
    "    \n",
    "    # print iteration results\n",
    "    @printf(\"%3d %8.4f %8.4f %8.4f %8.4f %8.4f %8.4f %8.4f \\n\",\n",
    "            i, a, x, b, f(a), f(x), f(b), err)\n",
    "  \n",
    "    # interval reduction\n",
    "    if f(a)*f(x)>0\n",
    "        global a = x\n",
    "    else\n",
    "        global b = x\n",
    "    end\n",
    "end\n",
    "\n",
    "println(\"\\nOutput summary:\");\n",
    "@show(x, err, n);\n"
   ]
  },
  {
   "cell_type": "code",
   "execution_count": null,
   "metadata": {
    "collapsed": true
   },
   "outputs": [],
   "source": [
    "# NEWTON ALGORITHM\n",
    "\n",
    "# Input data\n",
    "x0  = -4.0\n",
    "tol = 1e-10\n",
    "println(\"Input summary:\")\n",
    "@show(x0, tol)\n",
    "\n",
    "# Initial values\n",
    "x   = x0\n",
    "err = 0.0\n",
    "n   = 0  # counter\n",
    "Err = []\n",
    "\n",
    "while true\n",
    "    global n += 1  # updating the counter\n",
    "    \n",
    "    global x  = x0 - f(x0)/df(x0)\n",
    "    global err = abs(x- x0)\n",
    "    push!(Err, err)\n",
    "\n",
    "    if err<tol\n",
    "        break\n",
    "    end\n",
    "  \n",
    "    global x0 = x # updating x0\n",
    "end\n",
    "\n",
    "println(\"\\nOutput summary:\")\n",
    "@show(x, err, n)\n"
   ]
  }
 ],
 "metadata": {
  "kernelspec": {
   "display_name": "Julia 1.0.0",
   "language": "julia",
   "name": "julia-1.0"
  },
  "language_info": {
   "file_extension": ".jl",
   "mimetype": "application/julia",
   "name": "julia",
   "version": "1.0.0"
  },
  "latex_envs": {
   "LaTeX_envs_menu_present": true,
   "autoclose": false,
   "autocomplete": true,
   "bibliofile": "biblio.bib",
   "cite_by": "apalike",
   "current_citInitial": 1,
   "eqLabelWithNumbers": true,
   "eqNumInitial": 1,
   "hotkeys": {
    "equation": "Ctrl-E",
    "itemize": "Ctrl-I"
   },
   "labels_anchors": false,
   "latex_user_defs": false,
   "report_style_numbering": false,
   "user_envs_cfg": false
  }
 },
 "nbformat": 4,
 "nbformat_minor": 2
}
