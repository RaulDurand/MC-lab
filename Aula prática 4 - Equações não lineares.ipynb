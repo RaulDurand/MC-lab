{
 "cells": [
  {
   "cell_type": "markdown",
   "metadata": {},
   "source": [
    "*Métodos Computacionais*\n",
    "# Aula prática 4 - Equações não lineares"
   ]
  },
  {
   "cell_type": "markdown",
   "metadata": {},
   "source": [
    "## 1. Objetivos\n",
    "\n",
    "Apresentar as ferramentas necessárias para a implementação de métodos numéricos de solução de equações não lineares.\n",
    "\n",
    "## 2. Tópicos a serem abordados\n",
    "\n",
    "0. Isolamento de intervalos que contêm raizes.\n",
    "0. Aproximação de raizes pelos métodos da bisseção, ponto fixo e Newton.\n"
   ]
  },
  {
   "cell_type": "markdown",
   "metadata": {},
   "source": [
    "## 3. Exercícios em aula\n",
    "\n",
    "0. Construa uma tabela de valores para a função $f(x) = 3x^2-\\exp(x)$ e isole os intervalos que contêm as raizes. Indique pelo menos três interválos que contenham uma raiz.\n",
    "\n",
    "0. Escreva um programa que determine raizes pelo método da bisseção.   Determine todas as raizes da equação apresentada no item 1 com     precisão $\\varepsilon=10^{-5}$.\n",
    "            \n",
    "0. Escreva um programa que determine raizes pelo método da Newton. Determine todas as raizes da equação apresentada no item 1 com      precisão $\\varepsilon=10^{-5}$. Adote os pontos iniciais         necessários. Confira com os resultados obtidos pelo método da       bisseção.\n",
    "            "
   ]
  },
  {
   "cell_type": "markdown",
   "metadata": {},
   "source": [
    "\n",
    "## 4. Exercícios propostos\n",
    "\n",
    "0. Determine os interválos que contêm raiz nas seguintes equações:\n",
    "\n",
    "    * $\\sqrt{x}-5e^{-x}=0$\n",
    "    * $e^x-4=4\\ln{x^2}$\n",
    "\n",
    "0. Modifique o programa de bisseção para que o método possa ser utilizado como uma função, por exemplo, `bissecao(f, a, b, tol)`, onde f representa a função cuja raiz deve ser determinada. Finalmente, determine a solução das equações acima para uma precisão `eps=0.001`.\n",
    "\n",
    "0. Repita o exercício 2 mas desta vez utilizando o método de Newton.\n"
   ]
  },
  {
   "cell_type": "markdown",
   "metadata": {},
   "source": [
    "## Observações\n",
    "* O relatório das atividades desenvolvidas na aula prática incluindo os programas e resultados dos exercícios propostos deverá ser entregue na data fixada.\n",
    "* Relatórios iguais terão a nota dividida de acordo ao número de cópias."
   ]
  },
  {
   "cell_type": "code",
   "execution_count": 22,
   "metadata": {},
   "outputs": [
    {
     "data": {
      "text/plain": [
       "input (generic function with 1 method)"
      ]
     },
     "execution_count": 22,
     "metadata": {},
     "output_type": "execute_result"
    }
   ],
   "source": [
    "function input(msg, def)\n",
    "    print(msg, \" (default $def) : \")\n",
    "    txt = readline()\n",
    "    if strip(txt)==\"\"\n",
    "        return def\n",
    "    end\n",
    "    return eval(parse(txt))\n",
    "end"
   ]
  }
 ],
 "metadata": {
  "kernelspec": {
   "display_name": "Julia 0.6.0",
   "language": "julia",
   "name": "julia-0.6"
  },
  "language_info": {
   "file_extension": ".jl",
   "mimetype": "application/julia",
   "name": "julia",
   "version": "0.6.0"
  }
 },
 "nbformat": 4,
 "nbformat_minor": 2
}
