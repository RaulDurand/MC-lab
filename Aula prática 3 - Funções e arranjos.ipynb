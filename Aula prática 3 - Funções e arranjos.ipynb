{
 "cells": [
  {
   "cell_type": "markdown",
   "metadata": {},
   "source": [
    "*Métodos Computacionais - Prof. Raul Durand*\n",
    "# Aula prática 3 - Funções e arranjos"
   ]
  },
  {
   "cell_type": "markdown",
   "metadata": {},
   "source": [
    "## 1. Objetivos\n",
    "\n",
    "* Apresentar o uso e definição de funções (sequências de instruções que podem ser invocadas pelo programa principal quantas vezes for necessário).\n",
    "\n",
    "* Apresentar os comandos para criação e operações com matrizes e vetores (arranjos, tipos de dados que representam um conjunto de valores numéricos armazenados de maneira sequencial).\n",
    "\n",
    "## 2. Tópicos a serem abordados\n",
    "\n",
    "0. Uso de funções intrinsecas, funções previamente implementadas na linguagem de programação. Por exemplo: sin , cos , abs , exp , etc.\n",
    "0. Uso das palavras chave function e end para a de\u001c",
    "nição de funções em Julia. 0. Criação de vetores e matrizes por extenso. Uso das funções zeros , ones , rand e eye para criação de matrizes. Acesso aos elementos de matrizes. Criação de submatrizes.\n",
    "0. Uso de operadores + , - , * e ’ e das funções length , size , det e norm em matrizes e vetores."
   ]
  },
  {
   "cell_type": "markdown",
   "metadata": {},
   "source": [
    "## 3. Exercícios em aula\n",
    "\n",
    "0. Escreva as funções em Julia f (x, y) = x 4 + y e g(z) = z 2 + f (1, z). Em seguida encontre os valores das expressões abaixo.\n",
    "    * f(5, 3)\n",
    "    * f(1, g(2))^2\n",
    "    * g(8)−1\n",
    "2. Escreva um programa que tabele valores a função $x^9 − 9x + 3$ no intervalo [a, b] e com passo $h$ dados pelo usuário. O programa deverá identificar intervalos que contenham pelo menos uma raiz.\n",
    "3. Digite as matrizes A e B e o vetor V como:\n",
    "<br\\><br\\>\n",
    "$$\n",
    "A = \n",
    "\\begin{bmatrix} \n",
    "1 & 2 & 4\\\\ \n",
    "2 & 4 & 8\\\\ \n",
    "3 & 6 & 12 \n",
    "\\end{bmatrix}\n",
    "\\qquad\n",
    "B = \n",
    "\\begin{bmatrix} \n",
    "2 & 4\\\\ \n",
    "6 & 8\\\\ \n",
    "10 & 12 \n",
    "\\end{bmatrix}\n",
    "\\qquad\n",
    "V = \n",
    "\\begin{pmatrix} \n",
    "1\\\\ \n",
    "3\\\\ \n",
    "5 \n",
    "\\end{pmatrix}\n",
    "$$\n",
    "<br\\>\n",
    "determine e descreva o resultado das seguintes operações:\n",
    "    * A\\*B\n",
    "    * B'\n",
    "    * B'\\*A\\*B\n",
    "    * size(A)\n",
    "    * size(B,1)\n",
    "    * size(B,2)\n",
    "    * V[1]\n",
    "    * V[2]\n",
    "    * V[end]\n",
    "    * A[1,1]\n",
    "    * B[3,2]\n",
    "    * B[2,3]\n",
    "    * B[end,end]\n",
    "    * V[1:2]\n",
    "    * B[1:2, 1:end]\n",
    "    * length(V)\n",
    "    * det(A A')\n",
    "    * norm(A A')\n",
    "    * eye(3)\n",
    "    * A\\*eye(3)\n",
    "    * rand(3)\n",
    "    * rand(3)+V\n",
    "    * rand(3,2)+B"
   ]
  },
  {
   "cell_type": "markdown",
   "metadata": {},
   "source": [
    "\n",
    "## 4. Exercícios propostos\n",
    "\n",
    "1. Escreva uma função em Julia chamada `maxmin` que retorne os valores máximo e mínimo de um dado vetor. Execute a função com um vetor aleatório.\n",
    "2. Escreva uma função em Julia que dada uma matriz 3 × 3 retorne o determinante da mesma. Use a fórmula correspondente. Não poderá ser utilizada a função `det`. Execute a função com uma matriz aleatória.\n",
    "3. Escreva uma função em Julia que determine se uma matriz é quadrada e simétrica. Execute a função com uma matriz retangular e posteriormente com uma matriz simétrica.\n"
   ]
  },
  {
   "cell_type": "markdown",
   "metadata": {},
   "source": [
    "## Observações\n",
    "* O relatório das atividades desenvolvidas na aula prática incluindo os programas e resultados dos exercícios propostos deverá ser entregue na data fixada.\n",
    "* Caso o relatório não seja entregue na data marcada, o mesmo poderá ser entregue na próxima aula da disciplina valendo apenas 50% da nota. Após essa última data o relatório não será mais aceito. \n",
    "* Relatórios iguais terão a nota dividida de acordo ao número de cópias."
   ]
  }
 ],
 "metadata": {
  "kernelspec": {
   "display_name": "Julia 0.6.0",
   "language": "julia",
   "name": "julia-0.6"
  },
  "language_info": {
   "file_extension": ".jl",
   "mimetype": "application/julia",
   "name": "julia",
   "version": "0.6.0"
  }
 },
 "nbformat": 4,
 "nbformat_minor": 2
}
