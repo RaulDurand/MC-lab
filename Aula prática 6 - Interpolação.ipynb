{
 "cells": [
  {
   "cell_type": "markdown",
   "metadata": {},
   "source": [
    "###### *Métodos Computacionais - Prof. Raul Durand*\n",
    "# Aula prática 6 - Interpolação"
   ]
  },
  {
   "cell_type": "markdown",
   "metadata": {},
   "source": [
    "## 1. Objetivos\n",
    "\n",
    "* Apresentar os procedimentos necessários para implementação dos métodos de interpolação de uma série de pontos $(x, y)$.\n",
    "\n",
    "## 2. Tópicos a serem abordados\n",
    "\n",
    "0. Interpolação de Vandermonde.\n",
    "1. Interpolação de Lagrange"
   ]
  },
  {
   "cell_type": "markdown",
   "metadata": {},
   "source": [
    "## 3. Exercícios em aula\n",
    "\n",
    "0. Considerando os dados abaixo, escreva um programa que permita estimar o valor de $y$ a partir de uma valor $x$ utilizando a interpolação de Vandermonde. Estime o valor de $y$ quando $x=1.75$.\n",
    "```julia\n",
    "X = [1., 2., 3., 4., 5.]\n",
    "Y = [66., 52.4., 18., 11., 10.]\n",
    "```\n",
    "\n",
    "0. Resova o problema do item anterior, desta vez, utilizando o método de interpolação de Lagrange."
   ]
  },
  {
   "cell_type": "markdown",
   "metadata": {},
   "source": [
    "\n",
    "## 4. Exercícios propostos\n",
    "\n",
    "1. Escreva uma função que permita realizar a interpolação de dados através do método de Newton. Considerando os dados abaixo, execute o programa para estimar o valor de $y$ quando $x=1.0$.\n",
    "```julia\n",
    "X = [-1., 0., 2., 3.]\n",
    "Y = [4., 1., 1., 16.]\n",
    "```"
   ]
  },
  {
   "cell_type": "markdown",
   "metadata": {},
   "source": [
    "## Observações\n",
    "* O relatório das atividades desenvolvidas na aula prática incluindo os programas e resultados dos exercícios propostos deverá ser entregue na data fixada.\n",
    "* Caso o relatório não seja entregue na data marcada, o mesmo poderá ser entregue na próxima aula da disciplina valendo apenas 50% da nota. Após essa última data o relatório não será mais aceito. \n",
    "* Relatórios iguais terão a nota dividida de acordo ao número de cópias."
   ]
  }
 ],
 "metadata": {
  "kernelspec": {
   "display_name": "Julia 0.6.0",
   "language": "julia",
   "name": "julia-0.6"
  },
  "language_info": {
   "file_extension": ".jl",
   "mimetype": "application/julia",
   "name": "julia",
   "version": "0.6.0"
  }
 },
 "nbformat": 4,
 "nbformat_minor": 2
}
